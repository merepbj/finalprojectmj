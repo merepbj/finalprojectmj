{
 "cells": [
  {
   "cell_type": "code",
   "execution_count": 1,
   "metadata": {},
   "outputs": [],
   "source": [
    "import pandas as pd\n",
    "%matplotlib inline\n",
    "import matplotlib.pyplot as plt\n",
    "import numpy as np\n",
    "import pickle"
   ]
  },
  {
   "cell_type": "code",
   "execution_count": 33,
   "metadata": {},
   "outputs": [
    {
     "data": {
      "text/html": [
       "<div>\n",
       "<style scoped>\n",
       "    .dataframe tbody tr th:only-of-type {\n",
       "        vertical-align: middle;\n",
       "    }\n",
       "\n",
       "    .dataframe tbody tr th {\n",
       "        vertical-align: top;\n",
       "    }\n",
       "\n",
       "    .dataframe thead th {\n",
       "        text-align: right;\n",
       "    }\n",
       "</style>\n",
       "<table border=\"1\" class=\"dataframe\">\n",
       "  <thead>\n",
       "    <tr style=\"text-align: right;\">\n",
       "      <th></th>\n",
       "      <th>title</th>\n",
       "      <th>country</th>\n",
       "      <th>stance</th>\n",
       "      <th>reach</th>\n",
       "      <th>age</th>\n",
       "      <th>weightClass</th>\n",
       "      <th>trainingCenter</th>\n",
       "      <th>wins</th>\n",
       "      <th>loses</th>\n",
       "      <th>draws</th>\n",
       "      <th>tkos</th>\n",
       "      <th>tko wins</th>\n",
       "      <th>tko lose</th>\n",
       "      <th>subs</th>\n",
       "      <th>subs win</th>\n",
       "      <th>subs lose</th>\n",
       "    </tr>\n",
       "  </thead>\n",
       "  <tbody>\n",
       "    <tr>\n",
       "      <th>0</th>\n",
       "      <td>Pete Spratt</td>\n",
       "      <td>USA</td>\n",
       "      <td>Orthodox</td>\n",
       "      <td>NaN</td>\n",
       "      <td>47.0</td>\n",
       "      <td>Lightweight</td>\n",
       "      <td>NaN</td>\n",
       "      <td>12</td>\n",
       "      <td>18</td>\n",
       "      <td>0</td>\n",
       "      <td>5 1</td>\n",
       "      <td>5</td>\n",
       "      <td>1</td>\n",
       "      <td>5 14</td>\n",
       "      <td>5</td>\n",
       "      <td>14</td>\n",
       "    </tr>\n",
       "    <tr>\n",
       "      <th>1</th>\n",
       "      <td>Jonny Carson</td>\n",
       "      <td>USA</td>\n",
       "      <td>NaN</td>\n",
       "      <td>NaN</td>\n",
       "      <td>NaN</td>\n",
       "      <td>Lightweight</td>\n",
       "      <td>Skrap Pack</td>\n",
       "      <td>11</td>\n",
       "      <td>7</td>\n",
       "      <td>0</td>\n",
       "      <td>2 0</td>\n",
       "      <td>2</td>\n",
       "      <td>0</td>\n",
       "      <td>6 7</td>\n",
       "      <td>6</td>\n",
       "      <td>7</td>\n",
       "    </tr>\n",
       "    <tr>\n",
       "      <th>2</th>\n",
       "      <td>Sergio Quinones</td>\n",
       "      <td>USA</td>\n",
       "      <td>NaN</td>\n",
       "      <td>NaN</td>\n",
       "      <td>NaN</td>\n",
       "      <td>Featherweight</td>\n",
       "      <td>NaN</td>\n",
       "      <td>11</td>\n",
       "      <td>19</td>\n",
       "      <td>0</td>\n",
       "      <td>1 5</td>\n",
       "      <td>1</td>\n",
       "      <td>5</td>\n",
       "      <td>7 9</td>\n",
       "      <td>7</td>\n",
       "      <td>9</td>\n",
       "    </tr>\n",
       "    <tr>\n",
       "      <th>3</th>\n",
       "      <td>Alvin Cacdac</td>\n",
       "      <td>USA</td>\n",
       "      <td>Orthodox</td>\n",
       "      <td>NaN</td>\n",
       "      <td>NaN</td>\n",
       "      <td>Flyweight</td>\n",
       "      <td>NaN</td>\n",
       "      <td>17</td>\n",
       "      <td>13</td>\n",
       "      <td>0</td>\n",
       "      <td>8 2</td>\n",
       "      <td>8</td>\n",
       "      <td>2</td>\n",
       "      <td>7 9</td>\n",
       "      <td>7</td>\n",
       "      <td>9</td>\n",
       "    </tr>\n",
       "    <tr>\n",
       "      <th>4</th>\n",
       "      <td>Vincent Latoel</td>\n",
       "      <td>NETHERLANDS</td>\n",
       "      <td>NaN</td>\n",
       "      <td>NaN</td>\n",
       "      <td>39.0</td>\n",
       "      <td>Featherweight</td>\n",
       "      <td>NaN</td>\n",
       "      <td>16</td>\n",
       "      <td>18</td>\n",
       "      <td>2</td>\n",
       "      <td>7 3</td>\n",
       "      <td>7</td>\n",
       "      <td>3</td>\n",
       "      <td>7 14</td>\n",
       "      <td>7</td>\n",
       "      <td>14</td>\n",
       "    </tr>\n",
       "  </tbody>\n",
       "</table>\n",
       "</div>"
      ],
      "text/plain": [
       "             title      country    stance reach   age    weightClass  \\\n",
       "0      Pete Spratt          USA  Orthodox   NaN  47.0    Lightweight   \n",
       "1     Jonny Carson          USA       NaN   NaN   NaN    Lightweight   \n",
       "2  Sergio Quinones          USA       NaN   NaN   NaN  Featherweight   \n",
       "3     Alvin Cacdac          USA  Orthodox   NaN   NaN      Flyweight   \n",
       "4   Vincent Latoel  NETHERLANDS       NaN   NaN  39.0  Featherweight   \n",
       "\n",
       "  trainingCenter  wins  loses  draws tkos  tko wins  tko lose  subs  subs win  \\\n",
       "0            NaN    12     18      0  5 1         5         1  5 14         5   \n",
       "1     Skrap Pack    11      7      0  2 0         2         0   6 7         6   \n",
       "2            NaN    11     19      0  1 5         1         5   7 9         7   \n",
       "3            NaN    17     13      0  8 2         8         2   7 9         7   \n",
       "4            NaN    16     18      2  7 3         7         3  7 14         7   \n",
       "\n",
       "   subs lose  \n",
       "0         14  \n",
       "1          7  \n",
       "2          9  \n",
       "3          9  \n",
       "4         14  "
      ]
     },
     "execution_count": 33,
     "metadata": {},
     "output_type": "execute_result"
    }
   ],
   "source": [
    "df=pd.read_csv(\"MMA Fighters Gyms.csv\")\n",
    "df.head()"
   ]
  },
  {
   "cell_type": "code",
   "execution_count": 34,
   "metadata": {},
   "outputs": [
    {
     "data": {
      "text/html": [
       "<div>\n",
       "<style scoped>\n",
       "    .dataframe tbody tr th:only-of-type {\n",
       "        vertical-align: middle;\n",
       "    }\n",
       "\n",
       "    .dataframe tbody tr th {\n",
       "        vertical-align: top;\n",
       "    }\n",
       "\n",
       "    .dataframe thead th {\n",
       "        text-align: right;\n",
       "    }\n",
       "</style>\n",
       "<table border=\"1\" class=\"dataframe\">\n",
       "  <thead>\n",
       "    <tr style=\"text-align: right;\">\n",
       "      <th></th>\n",
       "      <th>age</th>\n",
       "      <th>wins</th>\n",
       "      <th>loses</th>\n",
       "      <th>draws</th>\n",
       "      <th>tko wins</th>\n",
       "      <th>tko lose</th>\n",
       "      <th>subs win</th>\n",
       "      <th>subs lose</th>\n",
       "    </tr>\n",
       "  </thead>\n",
       "  <tbody>\n",
       "    <tr>\n",
       "      <th>count</th>\n",
       "      <td>3661.000000</td>\n",
       "      <td>21925.000000</td>\n",
       "      <td>21925.000000</td>\n",
       "      <td>21925.000000</td>\n",
       "      <td>21925.000000</td>\n",
       "      <td>21925.000000</td>\n",
       "      <td>21925.000000</td>\n",
       "      <td>21925.000000</td>\n",
       "    </tr>\n",
       "    <tr>\n",
       "      <th>mean</th>\n",
       "      <td>33.279159</td>\n",
       "      <td>1.987412</td>\n",
       "      <td>1.986727</td>\n",
       "      <td>0.047115</td>\n",
       "      <td>0.705861</td>\n",
       "      <td>0.704812</td>\n",
       "      <td>0.707685</td>\n",
       "      <td>0.707822</td>\n",
       "    </tr>\n",
       "    <tr>\n",
       "      <th>std</th>\n",
       "      <td>5.838975</td>\n",
       "      <td>5.222658</td>\n",
       "      <td>2.334107</td>\n",
       "      <td>0.298870</td>\n",
       "      <td>2.195890</td>\n",
       "      <td>1.049964</td>\n",
       "      <td>2.281978</td>\n",
       "      <td>1.087243</td>\n",
       "    </tr>\n",
       "    <tr>\n",
       "      <th>min</th>\n",
       "      <td>18.000000</td>\n",
       "      <td>0.000000</td>\n",
       "      <td>0.000000</td>\n",
       "      <td>0.000000</td>\n",
       "      <td>0.000000</td>\n",
       "      <td>0.000000</td>\n",
       "      <td>0.000000</td>\n",
       "      <td>0.000000</td>\n",
       "    </tr>\n",
       "    <tr>\n",
       "      <th>25%</th>\n",
       "      <td>29.000000</td>\n",
       "      <td>0.000000</td>\n",
       "      <td>1.000000</td>\n",
       "      <td>0.000000</td>\n",
       "      <td>0.000000</td>\n",
       "      <td>0.000000</td>\n",
       "      <td>0.000000</td>\n",
       "      <td>0.000000</td>\n",
       "    </tr>\n",
       "    <tr>\n",
       "      <th>50%</th>\n",
       "      <td>33.000000</td>\n",
       "      <td>0.000000</td>\n",
       "      <td>1.000000</td>\n",
       "      <td>0.000000</td>\n",
       "      <td>0.000000</td>\n",
       "      <td>0.000000</td>\n",
       "      <td>0.000000</td>\n",
       "      <td>0.000000</td>\n",
       "    </tr>\n",
       "    <tr>\n",
       "      <th>75%</th>\n",
       "      <td>37.000000</td>\n",
       "      <td>1.000000</td>\n",
       "      <td>2.000000</td>\n",
       "      <td>0.000000</td>\n",
       "      <td>0.000000</td>\n",
       "      <td>1.000000</td>\n",
       "      <td>0.000000</td>\n",
       "      <td>1.000000</td>\n",
       "    </tr>\n",
       "    <tr>\n",
       "      <th>max</th>\n",
       "      <td>64.000000</td>\n",
       "      <td>101.000000</td>\n",
       "      <td>32.000000</td>\n",
       "      <td>10.000000</td>\n",
       "      <td>36.000000</td>\n",
       "      <td>15.000000</td>\n",
       "      <td>62.000000</td>\n",
       "      <td>20.000000</td>\n",
       "    </tr>\n",
       "  </tbody>\n",
       "</table>\n",
       "</div>"
      ],
      "text/plain": [
       "               age          wins         loses         draws      tko wins  \\\n",
       "count  3661.000000  21925.000000  21925.000000  21925.000000  21925.000000   \n",
       "mean     33.279159      1.987412      1.986727      0.047115      0.705861   \n",
       "std       5.838975      5.222658      2.334107      0.298870      2.195890   \n",
       "min      18.000000      0.000000      0.000000      0.000000      0.000000   \n",
       "25%      29.000000      0.000000      1.000000      0.000000      0.000000   \n",
       "50%      33.000000      0.000000      1.000000      0.000000      0.000000   \n",
       "75%      37.000000      1.000000      2.000000      0.000000      0.000000   \n",
       "max      64.000000    101.000000     32.000000     10.000000     36.000000   \n",
       "\n",
       "           tko lose      subs win     subs lose  \n",
       "count  21925.000000  21925.000000  21925.000000  \n",
       "mean       0.704812      0.707685      0.707822  \n",
       "std        1.049964      2.281978      1.087243  \n",
       "min        0.000000      0.000000      0.000000  \n",
       "25%        0.000000      0.000000      0.000000  \n",
       "50%        0.000000      0.000000      0.000000  \n",
       "75%        1.000000      0.000000      1.000000  \n",
       "max       15.000000     62.000000     20.000000  "
      ]
     },
     "execution_count": 34,
     "metadata": {},
     "output_type": "execute_result"
    }
   ],
   "source": [
    "df.describe()"
   ]
  },
  {
   "cell_type": "code",
   "execution_count": null,
   "metadata": {},
   "outputs": [],
   "source": [
    "df.keys()\n"
   ]
  },
  {
   "cell_type": "markdown",
   "metadata": {},
   "source": [
    "### Creating total column"
   ]
  },
  {
   "cell_type": "code",
   "execution_count": null,
   "metadata": {},
   "outputs": [],
   "source": [
    "df.age.count()"
   ]
  },
  {
   "cell_type": "code",
   "execution_count": null,
   "metadata": {
    "scrolled": true
   },
   "outputs": [],
   "source": [
    "df.count()"
   ]
  },
  {
   "cell_type": "code",
   "execution_count": 35,
   "metadata": {},
   "outputs": [
    {
     "data": {
      "text/plain": [
       "fighter        3085\n",
       "country        3085\n",
       "age            3085\n",
       "weightClass    3085\n",
       "wins           3085\n",
       "loses          3085\n",
       "draws          3085\n",
       "tko wins       3085\n",
       "tko lose       3085\n",
       "subs win       3085\n",
       "subs lose      3085\n",
       "dtype: int64"
      ]
     },
     "execution_count": 35,
     "metadata": {},
     "output_type": "execute_result"
    }
   ],
   "source": [
    "clean = df.drop(columns=['reach','trainingCenter','stance','tkos','subs']).dropna().rename(columns = {\"title\": \"fighter\"})\n",
    "clean.count()\n"
   ]
  },
  {
   "cell_type": "code",
   "execution_count": 36,
   "metadata": {
    "scrolled": true
   },
   "outputs": [
    {
     "data": {
      "text/html": [
       "<div>\n",
       "<style scoped>\n",
       "    .dataframe tbody tr th:only-of-type {\n",
       "        vertical-align: middle;\n",
       "    }\n",
       "\n",
       "    .dataframe tbody tr th {\n",
       "        vertical-align: top;\n",
       "    }\n",
       "\n",
       "    .dataframe thead th {\n",
       "        text-align: right;\n",
       "    }\n",
       "</style>\n",
       "<table border=\"1\" class=\"dataframe\">\n",
       "  <thead>\n",
       "    <tr style=\"text-align: right;\">\n",
       "      <th></th>\n",
       "      <th>wins</th>\n",
       "      <th>fighter</th>\n",
       "      <th>country</th>\n",
       "      <th>age</th>\n",
       "      <th>weightClass</th>\n",
       "      <th>loses</th>\n",
       "      <th>draws</th>\n",
       "      <th>tko wins</th>\n",
       "      <th>tko lose</th>\n",
       "      <th>subs win</th>\n",
       "      <th>subs lose</th>\n",
       "    </tr>\n",
       "  </thead>\n",
       "  <tbody>\n",
       "    <tr>\n",
       "      <th>0</th>\n",
       "      <td>12</td>\n",
       "      <td>Pete Spratt</td>\n",
       "      <td>USA</td>\n",
       "      <td>47.0</td>\n",
       "      <td>Lightweight</td>\n",
       "      <td>18</td>\n",
       "      <td>0</td>\n",
       "      <td>5</td>\n",
       "      <td>1</td>\n",
       "      <td>5</td>\n",
       "      <td>14</td>\n",
       "    </tr>\n",
       "    <tr>\n",
       "      <th>4</th>\n",
       "      <td>16</td>\n",
       "      <td>Vincent Latoel</td>\n",
       "      <td>NETHERLANDS</td>\n",
       "      <td>39.0</td>\n",
       "      <td>Featherweight</td>\n",
       "      <td>18</td>\n",
       "      <td>2</td>\n",
       "      <td>7</td>\n",
       "      <td>3</td>\n",
       "      <td>7</td>\n",
       "      <td>14</td>\n",
       "    </tr>\n",
       "    <tr>\n",
       "      <th>5</th>\n",
       "      <td>23</td>\n",
       "      <td>Johnny Bedford</td>\n",
       "      <td>USA</td>\n",
       "      <td>35.0</td>\n",
       "      <td>Bantamweight</td>\n",
       "      <td>13</td>\n",
       "      <td>1</td>\n",
       "      <td>10</td>\n",
       "      <td>2</td>\n",
       "      <td>9</td>\n",
       "      <td>11</td>\n",
       "    </tr>\n",
       "    <tr>\n",
       "      <th>7</th>\n",
       "      <td>28</td>\n",
       "      <td>Joshua Burkman</td>\n",
       "      <td>USA</td>\n",
       "      <td>37.0</td>\n",
       "      <td>Welterweight</td>\n",
       "      <td>17</td>\n",
       "      <td>0</td>\n",
       "      <td>7</td>\n",
       "      <td>2</td>\n",
       "      <td>10</td>\n",
       "      <td>9</td>\n",
       "    </tr>\n",
       "    <tr>\n",
       "      <th>9</th>\n",
       "      <td>13</td>\n",
       "      <td>Pedro Rizzo</td>\n",
       "      <td>BRAZIL</td>\n",
       "      <td>44.0</td>\n",
       "      <td>Heavyweight</td>\n",
       "      <td>11</td>\n",
       "      <td>0</td>\n",
       "      <td>10</td>\n",
       "      <td>7</td>\n",
       "      <td>0</td>\n",
       "      <td>0</td>\n",
       "    </tr>\n",
       "  </tbody>\n",
       "</table>\n",
       "</div>"
      ],
      "text/plain": [
       "   wins         fighter      country   age    weightClass  loses  draws  \\\n",
       "0    12     Pete Spratt          USA  47.0    Lightweight     18      0   \n",
       "4    16  Vincent Latoel  NETHERLANDS  39.0  Featherweight     18      2   \n",
       "5    23  Johnny Bedford          USA  35.0   Bantamweight     13      1   \n",
       "7    28  Joshua Burkman          USA  37.0   Welterweight     17      0   \n",
       "9    13     Pedro Rizzo       BRAZIL  44.0    Heavyweight     11      0   \n",
       "\n",
       "   tko wins  tko lose  subs win  subs lose  \n",
       "0         5         1         5         14  \n",
       "4         7         3         7         14  \n",
       "5        10         2         9         11  \n",
       "7         7         2        10          9  \n",
       "9        10         7         0          0  "
      ]
     },
     "execution_count": 36,
     "metadata": {},
     "output_type": "execute_result"
    }
   ],
   "source": [
    "win = \"wins\"\n",
    "winner = clean[win]\n",
    "del clean[win]\n",
    "clean.insert(0,win,winner)\n",
    "clean.head()"
   ]
  },
  {
   "cell_type": "code",
   "execution_count": 37,
   "metadata": {},
   "outputs": [
    {
     "data": {
      "text/html": [
       "<div>\n",
       "<style scoped>\n",
       "    .dataframe tbody tr th:only-of-type {\n",
       "        vertical-align: middle;\n",
       "    }\n",
       "\n",
       "    .dataframe tbody tr th {\n",
       "        vertical-align: top;\n",
       "    }\n",
       "\n",
       "    .dataframe thead th {\n",
       "        text-align: right;\n",
       "    }\n",
       "</style>\n",
       "<table border=\"1\" class=\"dataframe\">\n",
       "  <thead>\n",
       "    <tr style=\"text-align: right;\">\n",
       "      <th></th>\n",
       "      <th>wins</th>\n",
       "      <th>country</th>\n",
       "      <th>age</th>\n",
       "      <th>weightClass</th>\n",
       "    </tr>\n",
       "  </thead>\n",
       "  <tbody>\n",
       "    <tr>\n",
       "      <th>0</th>\n",
       "      <td>12</td>\n",
       "      <td>USA</td>\n",
       "      <td>47.0</td>\n",
       "      <td>Lightweight</td>\n",
       "    </tr>\n",
       "    <tr>\n",
       "      <th>4</th>\n",
       "      <td>16</td>\n",
       "      <td>NETHERLANDS</td>\n",
       "      <td>39.0</td>\n",
       "      <td>Featherweight</td>\n",
       "    </tr>\n",
       "    <tr>\n",
       "      <th>5</th>\n",
       "      <td>23</td>\n",
       "      <td>USA</td>\n",
       "      <td>35.0</td>\n",
       "      <td>Bantamweight</td>\n",
       "    </tr>\n",
       "    <tr>\n",
       "      <th>7</th>\n",
       "      <td>28</td>\n",
       "      <td>USA</td>\n",
       "      <td>37.0</td>\n",
       "      <td>Welterweight</td>\n",
       "    </tr>\n",
       "    <tr>\n",
       "      <th>9</th>\n",
       "      <td>13</td>\n",
       "      <td>BRAZIL</td>\n",
       "      <td>44.0</td>\n",
       "      <td>Heavyweight</td>\n",
       "    </tr>\n",
       "  </tbody>\n",
       "</table>\n",
       "</div>"
      ],
      "text/plain": [
       "   wins      country   age    weightClass\n",
       "0    12          USA  47.0    Lightweight\n",
       "4    16  NETHERLANDS  39.0  Featherweight\n",
       "5    23          USA  35.0   Bantamweight\n",
       "7    28          USA  37.0   Welterweight\n",
       "9    13       BRAZIL  44.0    Heavyweight"
      ]
     },
     "execution_count": 37,
     "metadata": {},
     "output_type": "execute_result"
    }
   ],
   "source": [
    "clean = clean.drop(['fighter','loses','draws','tko wins','tko lose','subs win', 'subs lose'], axis = 1)\n",
    "clean.head()"
   ]
  },
  {
   "cell_type": "code",
   "execution_count": null,
   "metadata": {},
   "outputs": [],
   "source": [
    "# perform data transformation\n",
    "for col in clean.columns[1:]:\n",
    "    attName = col\n",
    "    dType = clean[col].dtype\n",
    "    missing = pd.isnull(clean[col]).any()\n",
    "    uniqueCount = len(clean[attName].value_counts(normalize=False))\n",
    "    # discretize (create dummies)\n",
    "    if dType == object:\n",
    "        clean = pd.concat([clean, pd.get_dummies(clean[col], prefix=col)], axis=1)\n",
    "        del clean[attName]"
   ]
  },
  {
   "cell_type": "code",
   "execution_count": null,
   "metadata": {},
   "outputs": [],
   "source": [
    "for name in clean.keys():\n",
    "    if ('.' in name):\n",
    "        print(name)"
   ]
  },
  {
   "cell_type": "code",
   "execution_count": null,
   "metadata": {},
   "outputs": [],
   "source": [
    "clean = clean.rename(columns={\"fighter_A.J. McKee\":\"fighter_AJ McKee\",\"fighter_Adilson Fernandes Ribeiro Jr.\":\"fighter_Adilson Fernandes Ribeiro Jr\",\"fighter_Antonio Carlos Jr.\":\"fighter_Antonio Carlos Jr\",\"fighter_C.J. Leveque\":\"fighter_CJ Leveque\",\"fighter_Carlo Pedersoli Jr.\":\"fighter_Carlo Pedersoli Jr\",\"fighter_D.J. Linderman\":\"fighter_DJ Linderman\",\"fighter_Danny Davis Jr.\":\"fighter_Danny Davis Jr\",\"fighter_Divino da Silva Rosa Jr.\":\"fighter_Divino da Silva Rosa Jr\",\"fighter_Donald Crawford Jr.\":\"fighter_Donald Crawford Jr\",\"fighter_E.J. Brooks\":\"fighter_EJ Brooks\",\"fighter_Fernando Rodrigues Jr.\":\"fighter_Fernando Rodrigues Jr\",\"fighter_Giovanni da Silva Santos Jr.\":\"fighter_Giovanni da Silva Santos Jr\",\"fighter_J.C. Llamas\":\"fighter_JC Llamas\",\"fighter_J.P. Reese\":\"fighter_JP Reese\",\"fighter_Julio Cesar Neves Jr.\":\"fighter_Julio Cesar Neves Jr\",\"fighter_Khalil Rountree Jr.\":\"fighter_Khalil Rountree Jr\",\"fighter_L.C. Davis\":\"fighter_LC Davis\",\"fighter_Luis Dutra Jr.\":\"fighter_Luis Dutra Jr\",\"fighter_Luis Melo Jr.\":\"fighter_Luis Melo Jr\",\"fighter_Marcio Alexandre Jr.\":\"fighter_Marcio Alexandre Jr\",\"fighter_Mauro Chimento Jr.\":\"fighter_Mauro Chimento Jr\",\"fighter_Pete Rogers Jr.\":\"fighter_Pete Rogers Jr\",\"fighter_Rafael Lovato Jr.\":\"fighter_Rafael Lovato Jr\",\"fighter_Raimundo Moreno Lima Jr.\":\"fighter_Raimundo Moreno Lima Jr\",\"fighter_Renato da Silva Jr.\":\"fighter_Renato da Silva Jr\",\"fighter_Ricky Legere Jr.\":\"fighter_Ricky Legere Jr\",\"fighter_Roberto Rojas Jr.\":\"fighter_Roberto Rojas Jr\",\"fighter_Will Martinez Jr.\":\"fighter_Will Martinez Jr\"})"
   ]
  },
  {
   "cell_type": "code",
   "execution_count": null,
   "metadata": {},
   "outputs": [],
   "source": [
    "clean[:3]"
   ]
  },
  {
   "cell_type": "code",
   "execution_count": 38,
   "metadata": {},
   "outputs": [
    {
     "data": {
      "text/html": [
       "<div>\n",
       "<style scoped>\n",
       "    .dataframe tbody tr th:only-of-type {\n",
       "        vertical-align: middle;\n",
       "    }\n",
       "\n",
       "    .dataframe tbody tr th {\n",
       "        vertical-align: top;\n",
       "    }\n",
       "\n",
       "    .dataframe thead th {\n",
       "        text-align: right;\n",
       "    }\n",
       "</style>\n",
       "<table border=\"1\" class=\"dataframe\">\n",
       "  <thead>\n",
       "    <tr style=\"text-align: right;\">\n",
       "      <th></th>\n",
       "      <th>country</th>\n",
       "      <th>age</th>\n",
       "      <th>weightClass</th>\n",
       "    </tr>\n",
       "  </thead>\n",
       "  <tbody>\n",
       "    <tr>\n",
       "      <th>0</th>\n",
       "      <td>USA</td>\n",
       "      <td>47.0</td>\n",
       "      <td>Lightweight</td>\n",
       "    </tr>\n",
       "    <tr>\n",
       "      <th>4</th>\n",
       "      <td>NETHERLANDS</td>\n",
       "      <td>39.0</td>\n",
       "      <td>Featherweight</td>\n",
       "    </tr>\n",
       "    <tr>\n",
       "      <th>5</th>\n",
       "      <td>USA</td>\n",
       "      <td>35.0</td>\n",
       "      <td>Bantamweight</td>\n",
       "    </tr>\n",
       "    <tr>\n",
       "      <th>7</th>\n",
       "      <td>USA</td>\n",
       "      <td>37.0</td>\n",
       "      <td>Welterweight</td>\n",
       "    </tr>\n",
       "    <tr>\n",
       "      <th>9</th>\n",
       "      <td>BRAZIL</td>\n",
       "      <td>44.0</td>\n",
       "      <td>Heavyweight</td>\n",
       "    </tr>\n",
       "    <tr>\n",
       "      <th>...</th>\n",
       "      <td>...</td>\n",
       "      <td>...</td>\n",
       "      <td>...</td>\n",
       "    </tr>\n",
       "    <tr>\n",
       "      <th>21917</th>\n",
       "      <td>GERMANY</td>\n",
       "      <td>39.0</td>\n",
       "      <td>Featherweight</td>\n",
       "    </tr>\n",
       "    <tr>\n",
       "      <th>21918</th>\n",
       "      <td>AUSTRALIA</td>\n",
       "      <td>35.0</td>\n",
       "      <td>Welterweight</td>\n",
       "    </tr>\n",
       "    <tr>\n",
       "      <th>21919</th>\n",
       "      <td>USA</td>\n",
       "      <td>44.0</td>\n",
       "      <td>Heavyweight</td>\n",
       "    </tr>\n",
       "    <tr>\n",
       "      <th>21920</th>\n",
       "      <td>USA</td>\n",
       "      <td>36.0</td>\n",
       "      <td>Featherweight</td>\n",
       "    </tr>\n",
       "    <tr>\n",
       "      <th>21924</th>\n",
       "      <td>USA</td>\n",
       "      <td>28.0</td>\n",
       "      <td>Featherweight</td>\n",
       "    </tr>\n",
       "  </tbody>\n",
       "</table>\n",
       "<p>3085 rows × 3 columns</p>\n",
       "</div>"
      ],
      "text/plain": [
       "           country   age    weightClass\n",
       "0              USA  47.0    Lightweight\n",
       "4      NETHERLANDS  39.0  Featherweight\n",
       "5              USA  35.0   Bantamweight\n",
       "7              USA  37.0   Welterweight\n",
       "9           BRAZIL  44.0    Heavyweight\n",
       "...            ...   ...            ...\n",
       "21917      GERMANY  39.0  Featherweight\n",
       "21918    AUSTRALIA  35.0   Welterweight\n",
       "21919          USA  44.0    Heavyweight\n",
       "21920          USA  36.0  Featherweight\n",
       "21924          USA  28.0  Featherweight\n",
       "\n",
       "[3085 rows x 3 columns]"
      ]
     },
     "execution_count": 38,
     "metadata": {},
     "output_type": "execute_result"
    }
   ],
   "source": [
    "selected_features = clean.drop('wins', axis = 1)\n",
    "selected_features"
   ]
  },
  {
   "cell_type": "code",
   "execution_count": 39,
   "metadata": {},
   "outputs": [],
   "source": [
    "X = selected_features\n",
    "y = clean[\"wins\"]"
   ]
  },
  {
   "cell_type": "code",
   "execution_count": 40,
   "metadata": {},
   "outputs": [
    {
     "name": "stdout",
     "output_type": "stream",
     "text": [
      "Shape:  (3085, 3) (3085,)\n"
     ]
    },
    {
     "data": {
      "text/html": [
       "<div>\n",
       "<style scoped>\n",
       "    .dataframe tbody tr th:only-of-type {\n",
       "        vertical-align: middle;\n",
       "    }\n",
       "\n",
       "    .dataframe tbody tr th {\n",
       "        vertical-align: top;\n",
       "    }\n",
       "\n",
       "    .dataframe thead th {\n",
       "        text-align: right;\n",
       "    }\n",
       "</style>\n",
       "<table border=\"1\" class=\"dataframe\">\n",
       "  <thead>\n",
       "    <tr style=\"text-align: right;\">\n",
       "      <th></th>\n",
       "      <th>country</th>\n",
       "      <th>age</th>\n",
       "      <th>weightClass</th>\n",
       "    </tr>\n",
       "  </thead>\n",
       "  <tbody>\n",
       "    <tr>\n",
       "      <th>0</th>\n",
       "      <td>USA</td>\n",
       "      <td>47.0</td>\n",
       "      <td>Lightweight</td>\n",
       "    </tr>\n",
       "    <tr>\n",
       "      <th>4</th>\n",
       "      <td>NETHERLANDS</td>\n",
       "      <td>39.0</td>\n",
       "      <td>Featherweight</td>\n",
       "    </tr>\n",
       "    <tr>\n",
       "      <th>5</th>\n",
       "      <td>USA</td>\n",
       "      <td>35.0</td>\n",
       "      <td>Bantamweight</td>\n",
       "    </tr>\n",
       "    <tr>\n",
       "      <th>7</th>\n",
       "      <td>USA</td>\n",
       "      <td>37.0</td>\n",
       "      <td>Welterweight</td>\n",
       "    </tr>\n",
       "    <tr>\n",
       "      <th>9</th>\n",
       "      <td>BRAZIL</td>\n",
       "      <td>44.0</td>\n",
       "      <td>Heavyweight</td>\n",
       "    </tr>\n",
       "    <tr>\n",
       "      <th>...</th>\n",
       "      <td>...</td>\n",
       "      <td>...</td>\n",
       "      <td>...</td>\n",
       "    </tr>\n",
       "    <tr>\n",
       "      <th>21917</th>\n",
       "      <td>GERMANY</td>\n",
       "      <td>39.0</td>\n",
       "      <td>Featherweight</td>\n",
       "    </tr>\n",
       "    <tr>\n",
       "      <th>21918</th>\n",
       "      <td>AUSTRALIA</td>\n",
       "      <td>35.0</td>\n",
       "      <td>Welterweight</td>\n",
       "    </tr>\n",
       "    <tr>\n",
       "      <th>21919</th>\n",
       "      <td>USA</td>\n",
       "      <td>44.0</td>\n",
       "      <td>Heavyweight</td>\n",
       "    </tr>\n",
       "    <tr>\n",
       "      <th>21920</th>\n",
       "      <td>USA</td>\n",
       "      <td>36.0</td>\n",
       "      <td>Featherweight</td>\n",
       "    </tr>\n",
       "    <tr>\n",
       "      <th>21924</th>\n",
       "      <td>USA</td>\n",
       "      <td>28.0</td>\n",
       "      <td>Featherweight</td>\n",
       "    </tr>\n",
       "  </tbody>\n",
       "</table>\n",
       "<p>3085 rows × 3 columns</p>\n",
       "</div>"
      ],
      "text/plain": [
       "           country   age    weightClass\n",
       "0              USA  47.0    Lightweight\n",
       "4      NETHERLANDS  39.0  Featherweight\n",
       "5              USA  35.0   Bantamweight\n",
       "7              USA  37.0   Welterweight\n",
       "9           BRAZIL  44.0    Heavyweight\n",
       "...            ...   ...            ...\n",
       "21917      GERMANY  39.0  Featherweight\n",
       "21918    AUSTRALIA  35.0   Welterweight\n",
       "21919          USA  44.0    Heavyweight\n",
       "21920          USA  36.0  Featherweight\n",
       "21924          USA  28.0  Featherweight\n",
       "\n",
       "[3085 rows x 3 columns]"
      ]
     },
     "execution_count": 40,
     "metadata": {},
     "output_type": "execute_result"
    }
   ],
   "source": [
    "print(\"Shape: \", X.shape, y.shape)\n",
    "X"
   ]
  },
  {
   "cell_type": "code",
   "execution_count": 41,
   "metadata": {},
   "outputs": [],
   "source": [
    "from sklearn.model_selection import train_test_split\n",
    "from sklearn.preprocessing import LabelEncoder, MinMaxScaler\n"
   ]
  },
  {
   "cell_type": "code",
   "execution_count": 42,
   "metadata": {},
   "outputs": [
    {
     "data": {
      "text/plain": [
       "OrdinalEncoder()"
      ]
     },
     "execution_count": 42,
     "metadata": {},
     "output_type": "execute_result"
    }
   ],
   "source": [
    "from sklearn.preprocessing import OrdinalEncoder\n",
    "enc = OrdinalEncoder()\n",
    "enc.fit(X)"
   ]
  },
  {
   "cell_type": "code",
   "execution_count": 43,
   "metadata": {},
   "outputs": [
    {
     "data": {
      "text/plain": [
       "[array(['AFGHANISTAN', 'AFRICA', 'ALBANIA', 'ARGENTINA', 'ARMENIA',\n",
       "        'AUSTRALIA', 'AUSTRIA', 'AZERBAIJAN', 'BAHAMAS', 'BELARUS',\n",
       "        'BELGIUM', 'BOLIVIA', 'BOSNIA & HERZEGOVINA', 'BRAZIL', 'BULGARIA',\n",
       "        'CAMEROON', 'CANADA', 'CHILE', 'CHINA', 'COLOMBIA', 'COSTA RICA',\n",
       "        'CROATIA', 'CUBA', 'CZECH REPUBLIC', 'DENMARK',\n",
       "        'DOMINICAN REPUBLIC', 'ECUADOR', 'EGYPT', 'EL SALVADOR', 'ENGLAND',\n",
       "        'ESTONIA', 'FINLAND', 'FRANCE', 'GEORGIA', 'GERMANY', 'GHANA',\n",
       "        'GREECE', 'GUAM', 'GUYANA', 'HONG KONG', 'HUNGARY', 'ICELAND',\n",
       "        'INDIA', 'IRAN', 'IRELAND', 'ISRAEL', 'ITALY', 'JAMAICA', 'JAPAN',\n",
       "        'KAZAKHSTAN', 'KOREA', 'KYRGYZSTAN', 'LATVIA', 'LEBANON',\n",
       "        'LITHUANIA', 'MALAYSIA', 'MEXICO', 'MOLDOVA', 'MONGOLIA',\n",
       "        'MONTENEGRO', 'NETHERLANDS', 'NEW ZEALAND', 'NICARAGUA', 'NIGERIA',\n",
       "        'NORTHERN IRELAND', 'NORWAY', 'PANAMA', 'PARAGUAY', 'PERU',\n",
       "        'PHILIPPINES', 'POLAND', 'PORTUGAL', 'PUERTO RICO', 'ROMANIA',\n",
       "        'RUSSIA', 'SCOTLAND', 'SERBIA', 'SINGAPORE', 'SLOVAKIA',\n",
       "        'SLOVENIA', 'SOUTH AFRICA', 'SOUTH KOREA', 'SPAIN', 'SURINAME',\n",
       "        'SWEDEN', 'SWITZERLAND', 'TAIWAN', 'THAILAND', 'TURKEY', 'UKRAINE',\n",
       "        'USA', 'VENEZUELA', 'VIETNAM', 'WALES', 'ZAIRE', 'ZIMBABWE'],\n",
       "       dtype=object),\n",
       " array([18., 19., 20., 21., 22., 23., 24., 25., 26., 27., 28., 29., 30.,\n",
       "        31., 32., 33., 34., 35., 36., 37., 38., 39., 40., 41., 42., 43.,\n",
       "        44., 45., 46., 47., 48., 49., 50., 51., 52., 53., 54., 55., 56.,\n",
       "        64.]),\n",
       " array(['5\\'5\", Lightweight', 'Atomweight', 'Bantamweight',\n",
       "        'Bantamweight - Rizin (60 kg)', 'Catch Weight', 'Catchweight',\n",
       "        'Featherweight', 'Flyweight', 'Heavyweight', 'Light Heavyweight',\n",
       "        'Lightweight', 'Middleweight', 'Open Weight', 'Strawweight',\n",
       "        'Welterweight', \"Women's Atomweight\", \"Women's Bantamweight\",\n",
       "        \"Women's Catch Weight\", \"Women's Featherweight\",\n",
       "        \"Women's Flyweight\", \"Women's Lightweight\", \"Women's Strawweight\"],\n",
       "       dtype=object)]"
      ]
     },
     "execution_count": 43,
     "metadata": {},
     "output_type": "execute_result"
    }
   ],
   "source": [
    "enc.categories_"
   ]
  },
  {
   "cell_type": "code",
   "execution_count": 56,
   "metadata": {},
   "outputs": [
    {
     "ename": "IndexError",
     "evalue": "only integers, slices (`:`), ellipsis (`...`), numpy.newaxis (`None`) and integer or boolean arrays are valid indices",
     "output_type": "error",
     "traceback": [
      "\u001b[1;31m---------------------------------------------------------------------------\u001b[0m",
      "\u001b[1;31mIndexError\u001b[0m                                Traceback (most recent call last)",
      "\u001b[1;32m<ipython-input-56-8546989593d6>\u001b[0m in \u001b[0;36m<module>\u001b[1;34m\u001b[0m\n\u001b[1;32m----> 1\u001b[1;33m \u001b[0mj\u001b[0m \u001b[1;33m=\u001b[0m \u001b[0mX\u001b[0m\u001b[1;33m[\u001b[0m\u001b[1;34m'country'\u001b[0m\u001b[1;33m]\u001b[0m\u001b[1;33m\u001b[0m\u001b[1;33m\u001b[0m\u001b[0m\n\u001b[0m\u001b[0;32m      2\u001b[0m \u001b[0mj\u001b[0m\u001b[1;33m\u001b[0m\u001b[1;33m\u001b[0m\u001b[0m\n",
      "\u001b[1;31mIndexError\u001b[0m: only integers, slices (`:`), ellipsis (`...`), numpy.newaxis (`None`) and integer or boolean arrays are valid indices"
     ]
    }
   ],
   "source": [
    "j = X['country']\n",
    "j"
   ]
  },
  {
   "cell_type": "code",
   "execution_count": 45,
   "metadata": {},
   "outputs": [],
   "source": [
    "X = enc.transform()"
   ]
  },
  {
   "cell_type": "code",
   "execution_count": 46,
   "metadata": {},
   "outputs": [
    {
     "data": {
      "text/plain": [
       "array([[90., 29., 10.],\n",
       "       [60., 21.,  6.],\n",
       "       [90., 17.,  2.],\n",
       "       ...,\n",
       "       [90., 26.,  8.],\n",
       "       [90., 18.,  6.],\n",
       "       [90., 10.,  6.]])"
      ]
     },
     "execution_count": 46,
     "metadata": {},
     "output_type": "execute_result"
    }
   ],
   "source": [
    "X"
   ]
  },
  {
   "cell_type": "code",
   "execution_count": 47,
   "metadata": {},
   "outputs": [],
   "source": [
    "X_train, X_test, y_train, y_test = train_test_split(\n",
    "    X, y, random_state=1)"
   ]
  },
  {
   "cell_type": "code",
   "execution_count": 48,
   "metadata": {},
   "outputs": [],
   "source": [
    "X_scaler = MinMaxScaler().fit(X_train)\n",
    "X_train_scaled = X_scaler.transform(X_train)\n",
    "X_test_scaled = X_scaler.transform(X_test)"
   ]
  },
  {
   "cell_type": "code",
   "execution_count": 49,
   "metadata": {},
   "outputs": [
    {
     "data": {
      "text/plain": [
       "LinearRegression()"
      ]
     },
     "execution_count": 49,
     "metadata": {},
     "output_type": "execute_result"
    }
   ],
   "source": [
    "from sklearn.linear_model import LinearRegression\n",
    "model = LinearRegression()\n",
    "model"
   ]
  },
  {
   "cell_type": "code",
   "execution_count": 50,
   "metadata": {},
   "outputs": [
    {
     "data": {
      "text/plain": [
       "LinearRegression()"
      ]
     },
     "execution_count": 50,
     "metadata": {},
     "output_type": "execute_result"
    }
   ],
   "source": [
    "model.fit(X, y)"
   ]
  },
  {
   "cell_type": "code",
   "execution_count": 51,
   "metadata": {},
   "outputs": [
    {
     "name": "stdout",
     "output_type": "stream",
     "text": [
      "Training Score: 0.02620298810945232\n",
      "Testing Score: 0.03360143633930024\n"
     ]
    }
   ],
   "source": [
    "training_score = model.score(X_train, y_train)\n",
    "testing_score = model.score(X_test, y_test)\n",
    "\n",
    "\n",
    "\n",
    "print(f\"Training Score: {training_score}\")\n",
    "print(f\"Testing Score: {testing_score}\")"
   ]
  },
  {
   "cell_type": "code",
   "execution_count": 52,
   "metadata": {
    "scrolled": true
   },
   "outputs": [
    {
     "name": "stdout",
     "output_type": "stream",
     "text": [
      "Training Score: 0.02657939781815377\n",
      "Testing Score: 0.03107512120940592\n"
     ]
    }
   ],
   "source": [
    "model.fit(X_train_scaled, y_train)\n",
    "training_score = model.score(X_train_scaled, y_train)\n",
    "testing_score = model.score(X_test_scaled, y_test)\n",
    "\n",
    "\n",
    "\n",
    "print(f\"Training Score: {training_score}\")\n",
    "print(f\"Testing Score: {testing_score}\")"
   ]
  },
  {
   "cell_type": "code",
   "execution_count": 29,
   "metadata": {},
   "outputs": [],
   "source": [
    "filename = \"predict_wins.sav\"\n",
    "#pickle.dump(model, (filename, \"wb\"))\n",
    "with open(filename, 'wb') as file:\n",
    "    pickle.dump(model, file)\n"
   ]
  },
  {
   "cell_type": "code",
   "execution_count": 53,
   "metadata": {},
   "outputs": [
    {
     "data": {
      "text/plain": [
       "array([[0.94736842, 0.34210526, 0.85      ],\n",
       "       [0.94736842, 0.36842105, 0.65      ],\n",
       "       [0.94736842, 0.44736842, 0.5       ],\n",
       "       ...,\n",
       "       [0.94736842, 0.55263158, 0.4       ],\n",
       "       [0.93684211, 0.26315789, 0.25      ],\n",
       "       [0.50526316, 0.52631579, 0.5       ]])"
      ]
     },
     "execution_count": 53,
     "metadata": {},
     "output_type": "execute_result"
    }
   ],
   "source": [
    "X_test_scaled"
   ]
  },
  {
   "cell_type": "code",
   "execution_count": 54,
   "metadata": {},
   "outputs": [
    {
     "data": {
      "text/plain": [
       "3"
      ]
     },
     "execution_count": 54,
     "metadata": {},
     "output_type": "execute_result"
    }
   ],
   "source": [
    "len(X_test_scaled[:1][0])"
   ]
  },
  {
   "cell_type": "code",
   "execution_count": 55,
   "metadata": {},
   "outputs": [
    {
     "data": {
      "text/html": [
       "<div>\n",
       "<style scoped>\n",
       "    .dataframe tbody tr th:only-of-type {\n",
       "        vertical-align: middle;\n",
       "    }\n",
       "\n",
       "    .dataframe tbody tr th {\n",
       "        vertical-align: top;\n",
       "    }\n",
       "\n",
       "    .dataframe thead th {\n",
       "        text-align: right;\n",
       "    }\n",
       "</style>\n",
       "<table border=\"1\" class=\"dataframe\">\n",
       "  <thead>\n",
       "    <tr style=\"text-align: right;\">\n",
       "      <th></th>\n",
       "      <th>Actual</th>\n",
       "      <th>Prediction</th>\n",
       "    </tr>\n",
       "  </thead>\n",
       "  <tbody>\n",
       "    <tr>\n",
       "      <th>0</th>\n",
       "      <td>2</td>\n",
       "      <td>9.528406</td>\n",
       "    </tr>\n",
       "    <tr>\n",
       "      <th>1</th>\n",
       "      <td>4</td>\n",
       "      <td>10.078172</td>\n",
       "    </tr>\n",
       "    <tr>\n",
       "      <th>2</th>\n",
       "      <td>0</td>\n",
       "      <td>11.075257</td>\n",
       "    </tr>\n",
       "    <tr>\n",
       "      <th>3</th>\n",
       "      <td>11</td>\n",
       "      <td>9.515896</td>\n",
       "    </tr>\n",
       "    <tr>\n",
       "      <th>4</th>\n",
       "      <td>45</td>\n",
       "      <td>12.447194</td>\n",
       "    </tr>\n",
       "    <tr>\n",
       "      <th>5</th>\n",
       "      <td>10</td>\n",
       "      <td>9.770512</td>\n",
       "    </tr>\n",
       "    <tr>\n",
       "      <th>6</th>\n",
       "      <td>12</td>\n",
       "      <td>9.285981</td>\n",
       "    </tr>\n",
       "    <tr>\n",
       "      <th>7</th>\n",
       "      <td>7</td>\n",
       "      <td>13.559236</td>\n",
       "    </tr>\n",
       "    <tr>\n",
       "      <th>8</th>\n",
       "      <td>8</td>\n",
       "      <td>13.111917</td>\n",
       "    </tr>\n",
       "    <tr>\n",
       "      <th>9</th>\n",
       "      <td>9</td>\n",
       "      <td>8.271427</td>\n",
       "    </tr>\n",
       "    <tr>\n",
       "      <th>10</th>\n",
       "      <td>1</td>\n",
       "      <td>11.091858</td>\n",
       "    </tr>\n",
       "    <tr>\n",
       "      <th>11</th>\n",
       "      <td>19</td>\n",
       "      <td>10.078172</td>\n",
       "    </tr>\n",
       "    <tr>\n",
       "      <th>12</th>\n",
       "      <td>9</td>\n",
       "      <td>11.335151</td>\n",
       "    </tr>\n",
       "    <tr>\n",
       "      <th>13</th>\n",
       "      <td>18</td>\n",
       "      <td>10.857853</td>\n",
       "    </tr>\n",
       "    <tr>\n",
       "      <th>14</th>\n",
       "      <td>8</td>\n",
       "      <td>10.194750</td>\n",
       "    </tr>\n",
       "  </tbody>\n",
       "</table>\n",
       "</div>"
      ],
      "text/plain": [
       "    Actual  Prediction\n",
       "0        2    9.528406\n",
       "1        4   10.078172\n",
       "2        0   11.075257\n",
       "3       11    9.515896\n",
       "4       45   12.447194\n",
       "5       10    9.770512\n",
       "6       12    9.285981\n",
       "7        7   13.559236\n",
       "8        8   13.111917\n",
       "9        9    8.271427\n",
       "10       1   11.091858\n",
       "11      19   10.078172\n",
       "12       9   11.335151\n",
       "13      18   10.857853\n",
       "14       8   10.194750"
      ]
     },
     "execution_count": 55,
     "metadata": {},
     "output_type": "execute_result"
    }
   ],
   "source": [
    "#Predictions for tuned model\n",
    "predictions = model.predict(X_test_scaled)\n",
    "classifications = y_test.unique().tolist()\n",
    "predicted = {\n",
    "    'Actual': y_test,\n",
    "    'Prediction': predictions\n",
    "}\n",
    "prediction_df = pd.DataFrame(predicted)\n",
    "prediction_df = prediction_df.set_index('Actual').reset_index()\n",
    "prediction_df.head(15)"
   ]
  },
  {
   "cell_type": "markdown",
   "metadata": {},
   "source": [
    "# Load (ETL)"
   ]
  }
 ],
 "metadata": {
  "kernelspec": {
   "display_name": "Python 3",
   "language": "python",
   "name": "python3"
  },
  "language_info": {
   "codemirror_mode": {
    "name": "ipython",
    "version": 3
   },
   "file_extension": ".py",
   "mimetype": "text/x-python",
   "name": "python",
   "nbconvert_exporter": "python",
   "pygments_lexer": "ipython3",
   "version": "3.6.10"
  }
 },
 "nbformat": 4,
 "nbformat_minor": 4
}
